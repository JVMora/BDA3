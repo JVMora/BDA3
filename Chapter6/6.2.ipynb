{
 "cells": [
  {
   "cell_type": "markdown",
   "id": "1f4a9415-f4d0-4427-85d5-03c4fe54dfa8",
   "metadata": {},
   "source": [
    "**2.** Model checking: in Exercise 2.13, the counts of airline fatalities in 1976–1985 were fitted\n",
    "to four different Poisson models.\n",
    "\n",
    "**(a)** For each of the models, set up posterior predictive test quantities to check the following\n",
    "assumptions: (1) independent Poisson distributions, (2) no trend over time.\n",
    "\n",
    "**(b)** For each of the models, use simulations from the posterior predictive distributions to\n",
    "measure the discrepancies. Display the discrepancies graphically and give *p*-values."
   ]
  },
  {
   "cell_type": "code",
   "execution_count": 5,
   "id": "c33eb75f-e022-4c4b-b0fb-d55d9ce0f92c",
   "metadata": {},
   "outputs": [],
   "source": [
    "import pandas as pd\n",
    "import numpy as np\n",
    "import matplotlib.pyplot as plt\n",
    "import scipy.stats as st\n",
    "from io import StringIO\n",
    "from sklearn.linear_model import LinearRegression"
   ]
  },
  {
   "cell_type": "code",
   "execution_count": 2,
   "id": "1a46e157-38e7-46dd-b6d6-e1549331a55b",
   "metadata": {},
   "outputs": [],
   "source": [
    "table = \"\"\"\n",
    "Year Accidents Deaths Rate\n",
    "1976 24 734 0.19\n",
    "1977 25 516 0.12\n",
    "1978 31 754 0.15\n",
    "1979 31 877 0.16\n",
    "1980 22 814 0.14\n",
    "1981 21 362 0.06\n",
    "1982 26 764 0.13\n",
    "1983 20 809 0.13\n",
    "1984 16 223 0.03\n",
    "1985 22 1066 0.15\n",
    "\"\"\""
   ]
  },
  {
   "cell_type": "code",
   "execution_count": 4,
   "id": "5d6a99ef-812f-47ce-ae50-31e6d7f658ca",
   "metadata": {},
   "outputs": [],
   "source": [
    "data = pd.read_csv(StringIO(table), delimiter=\" \")\n",
    "data = data.assign(PasMil = np.round(data.Deaths * 1e8 / data.Rate))"
   ]
  },
  {
   "cell_type": "code",
   "execution_count": 6,
   "id": "d4c18098-67cb-4b03-98fd-ca79fb420af8",
   "metadata": {},
   "outputs": [],
   "source": [
    "alpha, beta = 0, 0\n",
    "n = data.shape[0]\n",
    "S = 1000\n",
    "theta1 = st.gamma.rvs(alpha + np.sum(data['Accidents']), scale = 1/(beta + n), size = S)\n",
    "theta2 = st.gamma.rvs(alpha + np.sum(data['Accidents']), scale = 1/(beta + np.sum(data['PasMil'])), size = S)\n",
    "theta3 = st.gamma.rvs(alpha + np.sum(data['Deaths']), scale = 1/(beta + n), size = S)\n",
    "theta4 = st.gamma.rvs(alpha + np.sum(data['Deaths']), scale = 1/(beta + np.sum(data['PasMil'])), size = S)"
   ]
  },
  {
   "cell_type": "code",
   "execution_count": 7,
   "id": "f05f8110-d52a-4d96-951b-5fe9cbc3625a",
   "metadata": {},
   "outputs": [],
   "source": [
    "def Tstat(y):\n",
    "    x = np.arange(len(y)).reshape(-1,1)\n",
    "    return LinearRegression(fit_intercept=True).fit(x, y).coef_[0]"
   ]
  },
  {
   "cell_type": "code",
   "execution_count": 23,
   "id": "418228e6-8d3c-462c-b9ba-40d354264594",
   "metadata": {},
   "outputs": [],
   "source": [
    "T_obs = Tstat(data['Accidents'])\n",
    "Trep1, Trep2 = [], []\n",
    "for s in range(S):\n",
    "    yrep1 = st.poisson.rvs(theta1[s], size = n)\n",
    "    Trep1.append(Tstat(yrep1))\n",
    "    yrep2 = st.poisson.rvs(theta2[s] * data['PasMil'], size = n)\n",
    "    Trep2.append(Tstat(yrep2))"
   ]
  },
  {
   "cell_type": "code",
   "execution_count": 24,
   "id": "3526579e-36c6-4f98-be5b-94d993bde9a1",
   "metadata": {},
   "outputs": [
    {
     "data": {
      "text/plain": [
       "(0.953, 1.0)"
      ]
     },
     "execution_count": 24,
     "metadata": {},
     "output_type": "execute_result"
    }
   ],
   "source": [
    "# p-values\n",
    "np.mean(Trep1 > T_obs), np.mean(Trep2 > T_obs)"
   ]
  },
  {
   "cell_type": "code",
   "execution_count": 25,
   "id": "e6715e28-5e4f-4f49-b088-423efd06e165",
   "metadata": {},
   "outputs": [
    {
     "data": {
      "image/png": "[encoded data removed]",
      "text/plain": [
       "<Figure size 936x432 with 2 Axes>"
      ]
     },
     "metadata": {
      "needs_background": "light"
     },
     "output_type": "display_data"
    }
   ],
   "source": [
    "fig, ax = plt.subplots(1, 2, figsize = (13, 6))\n",
    "ax[0].hist(Trep1, edgecolor='white', color = 'gray')\n",
    "ax[0].axvline(T_obs, 0, 0.95, color = 'red', ls = '--', lw = 1)\n",
    "ax[1].hist(Trep2, edgecolor='white', color = 'gray')\n",
    "ax[1].axvline(T_obs, 0, 0.95, color = 'red', ls = '--', lw = 0.7);"
   ]
  },
  {
   "cell_type": "code",
   "execution_count": 26,
   "id": "fa2d3c92-f47f-41e3-b038-9031b7dfa1b3",
   "metadata": {},
   "outputs": [],
   "source": [
    "T_obs = Tstat(data['Deaths'])\n",
    "Trep1, Trep2 = [], []\n",
    "for s in range(S):\n",
    "    yrep1 = st.poisson.rvs(theta3[s], size = n)\n",
    "    Trep1.append(Tstat(yrep1))\n",
    "    yrep2 = st.poisson.rvs(theta4[s] * data['PasMil'], size = n)\n",
    "    Trep2.append(Tstat(yrep2))"
   ]
  },
  {
   "cell_type": "code",
   "execution_count": 29,
   "id": "44cfa2da-41fc-4225-ad86-e21e7003e78b",
   "metadata": {},
   "outputs": [
    {
     "data": {
      "text/plain": [
       "(0.185, 1.0)"
      ]
     },
     "execution_count": 29,
     "metadata": {},
     "output_type": "execute_result"
    }
   ],
   "source": [
    "# p-values\n",
    "np.mean(Trep1 > T_obs), np.mean(Trep2 > T_obs)"
   ]
  },
  {
   "cell_type": "code",
   "execution_count": 28,
   "id": "468f9e01-32fb-4802-8098-47cba63537ca",
   "metadata": {},
   "outputs": [
    {
     "data": {
      "image/png": "[encoded data removed]",
      "text/plain": [
       "<Figure size 936x432 with 2 Axes>"
      ]
     },
     "metadata": {
      "needs_background": "light"
     },
     "output_type": "display_data"
    }
   ],
   "source": [
    "fig, ax = plt.subplots(1, 2, figsize = (13, 6))\n",
    "ax[0].hist(Trep1, edgecolor='white', color = 'gray')\n",
    "ax[0].axvline(T_obs, 0, 0.95, color = 'red', ls = '--', lw = 1)\n",
    "ax[1].hist(Trep2, edgecolor='white', color = 'gray')\n",
    "ax[1].axvline(T_obs, 0, 0.95, color = 'red', ls = '--', lw = 0.7);"
   ]
  },
  {
   "cell_type": "code",
   "execution_count": null,
   "id": "46ac6a6c-82a0-46fc-a34c-bbf2db9d7661",
   "metadata": {},
   "outputs": [],
   "source": []
  }
 ],
 "metadata": {
  "kernelspec": {
   "display_name": "Python 3 (ipykernel)",
   "language": "python",
   "name": "python3"
  },
  "language_info": {
   "codemirror_mode": {
    "name": "ipython",
    "version": 3
   },
   "file_extension": ".py",
   "mimetype": "text/x-python",
   "name": "python",
   "nbconvert_exporter": "python",
   "pygments_lexer": "ipython3",
   "version": "3.9.1"
  }
 },
 "nbformat": 4,
 "nbformat_minor": 5
}

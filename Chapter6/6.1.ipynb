{
 "cells": [
  {
   "cell_type": "markdown",
   "id": "6b58e80e-7d95-4898-a974-e9ef015fa87d",
   "metadata": {},
   "source": [
    "**1.** Posterior predictive checking:\n",
    "\n",
    "**(a**) On page 120, the data from the SAT coaching experiments were checked against the\n",
    "model that assumed identical effects in all eight schools: the expected order statistics\n",
    "of the effect sizes were (26, 19, 14, 10, 6, 2, −3, −9), compared to observed data of (28,\n",
    "18, 12, 8, 7, 1, −1, −3). Express this comparison formally as a posterior predictive\n",
    "check comparing this model to the data. Does the model fit the aspect of the data\n",
    "tested here?"
   ]
  },
  {
   "cell_type": "code",
   "execution_count": 2,
   "id": "cfab3113-bcde-462e-acfc-c746520275cd",
   "metadata": {},
   "outputs": [],
   "source": [
    "import numpy as np\n",
    "import pandas as pd\n",
    "import matplotlib.pyplot as plt\n",
    "import scipy.stats as st"
   ]
  },
  {
   "cell_type": "code",
   "execution_count": 4,
   "id": "79e20103-0c43-4997-89c8-04c5847117a2",
   "metadata": {},
   "outputs": [],
   "source": [
    "y = np.array([28,8,-3,7,-1,1,18,12])\n",
    "sig = np.array([15,10,16,11,9,11,10,18])\n",
    "ys = np.sort(y)"
   ]
  },
  {
   "cell_type": "code",
   "execution_count": 5,
   "id": "a4eb6929-e4ba-4539-b66f-e134dd97eb5d",
   "metadata": {},
   "outputs": [],
   "source": [
    "def Tstat(y): return np.max(y) - np.min(y)"
   ]
  },
  {
   "cell_type": "code",
   "execution_count": 6,
   "id": "2ce94dba-90a0-418a-a5e7-5c6e8d8eecb3",
   "metadata": {},
   "outputs": [],
   "source": [
    "# Eq. 5.13 and page 120\n",
    "posterior_mean = np.sum(1/sig**2 * y) / np.sum(1/sig**2)\n",
    "posterior_std = np.sqrt(1/np.sum(1/sig**2))"
   ]
  },
  {
   "cell_type": "code",
   "execution_count": 7,
   "id": "14577cee-a4d3-4de1-9fbe-b33561b2fb38",
   "metadata": {},
   "outputs": [],
   "source": [
    "n = len(y)\n",
    "S = 1000\n",
    "yrep = np.zeros((S, n))\n",
    "Trep = []\n",
    "\n",
    "for i in range(S):\n",
    "    theta = st.norm.rvs(posterior_mean, posterior_std, size = 1)\n",
    "    yrep[i, :] = np.sort(st.norm.rvs(theta, sig))\n",
    "    Trep.append(Tstat(yrep[i, :]))"
   ]
  },
  {
   "cell_type": "code",
   "execution_count": 8,
   "id": "e8c69caf-f5bb-46c1-8642-de1c4ee09580",
   "metadata": {},
   "outputs": [],
   "source": [
    "pval = []\n",
    "for i in range(n):\n",
    "    pval.append(np.mean(yrep[:, i] > np.sort(y)[i]))"
   ]
  },
  {
   "cell_type": "code",
   "execution_count": 9,
   "id": "34d20563-3941-4848-ae1e-49f1c1398cf0",
   "metadata": {},
   "outputs": [
    {
     "data": {
      "text/plain": [
       "[0.211, 0.41, 0.544, 0.424, 0.574, 0.554, 0.497, 0.367]"
      ]
     },
     "execution_count": 9,
     "metadata": {},
     "output_type": "execute_result"
    }
   ],
   "source": [
    "pval"
   ]
  },
  {
   "cell_type": "code",
   "execution_count": 10,
   "id": "632cde32-ad0a-4b14-90ed-8dab25cf1564",
   "metadata": {},
   "outputs": [
    {
     "data": {
      "image/png": "[encoded data removed]",
      "text/plain": [
       "<Figure size 432x288 with 1 Axes>"
      ]
     },
     "metadata": {
      "needs_background": "light"
     },
     "output_type": "display_data"
    }
   ],
   "source": [
    "plt.hist(Trep, edgecolor = 'white');"
   ]
  },
  {
   "cell_type": "code",
   "execution_count": null,
   "id": "e3e6fa09-1e76-4407-b143-bed43f46b0cf",
   "metadata": {},
   "outputs": [],
   "source": []
  }
 ],
 "metadata": {
  "kernelspec": {
   "display_name": "Python 3 (ipykernel)",
   "language": "python",
   "name": "python3"
  },
  "language_info": {
   "codemirror_mode": {
    "name": "ipython",
    "version": 3
   },
   "file_extension": ".py",
   "mimetype": "text/x-python",
   "name": "python",
   "nbconvert_exporter": "python",
   "pygments_lexer": "ipython3",
   "version": "3.9.1"
  }
 },
 "nbformat": 4,
 "nbformat_minor": 5
}

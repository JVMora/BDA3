{
 "cells": [
  {
   "cell_type": "code",
   "execution_count": 1,
   "metadata": {},
   "outputs": [],
   "source": [
    "import numpy as np\n",
    "import matplotlib.pyplot as plt\n",
    "import scipy.stats as st\n",
    "import random"
   ]
  },
  {
   "cell_type": "code",
   "execution_count": 13,
   "metadata": {},
   "outputs": [
    {
     "data": {
      "image/png": "[encoded data removed]",
      "text/plain": [
       "<Figure size 432x288 with 1 Axes>"
      ]
     },
     "metadata": {
      "needs_background": "light"
     },
     "output_type": "display_data"
    }
   ],
   "source": [
    "plt.hist(np.round(st.expon.rvs(0, 10, size = 10000)));"
   ]
  },
  {
   "cell_type": "code",
   "execution_count": 24,
   "metadata": {},
   "outputs": [],
   "source": [
    "def poissonprocess(size = 1):\n",
    "\n",
    "    n = np.random.uniform(0, 1, size = size)\n",
    "    return  -np.log(1.0 - n) / (1/10)"
   ]
  },
  {
   "cell_type": "code",
   "execution_count": 22,
   "metadata": {},
   "outputs": [],
   "source": [
    "W = [poissonprocess()[0] for i in range(100000)]"
   ]
  },
  {
   "cell_type": "code",
   "execution_count": 23,
   "metadata": {},
   "outputs": [
    {
     "data": {
      "text/plain": [
       "0.09969046827192218"
      ]
     },
     "execution_count": 23,
     "metadata": {},
     "output_type": "execute_result"
    }
   ],
   "source": [
    "np.mean(W)"
   ]
  },
  {
   "cell_type": "code",
   "execution_count": 14,
   "metadata": {},
   "outputs": [
    {
     "data": {
      "image/png": "[encoded data removed]",
      "text/plain": [
       "<Figure size 432x288 with 1 Axes>"
      ]
     },
     "metadata": {
      "needs_background": "light"
     },
     "output_type": "display_data"
    }
   ],
   "source": [
    "plt.hist(W, bins = 20);"
   ]
  },
  {
   "cell_type": "code",
   "execution_count": 16,
   "metadata": {},
   "outputs": [],
   "source": [
    "def queuing():\n",
    "    \n",
    "    next_patient = 0\n",
    "    open_time = 0\n",
    "    time = 0\n",
    "    patient_arrival_time = 0\n",
    "    patients = [round(poissonprocess()[0])]\n",
    "    doctors = np.array([True, True, True])\n",
    "    time_finish_app = np.array([0.0,0.0,0.0])\n",
    "    next_patient_arrival = 0\n",
    "    patients_waiting = 0\n",
    "    waiting_time = []\n",
    "    while next_patient_arrival <= 420:\n",
    "    \n",
    "        if np.any(doctors) == False: # and \n",
    "            #print('Doctors busy!')\n",
    "            # If doctors are busy, patient_arrival_time is equal to the time the the first appoinment finished\n",
    "            patients_waiting += 1\n",
    "            patient_arrival_time += patients[next_patient]\n",
    "            patient_entry_to_app = np.min(time_finish_app) + 1\n",
    "            waiting_time.append(patient_entry_to_app - patient_arrival_time)\n",
    "            # The doctor who finishes first his appoinment gets unoccupied\n",
    "            doctors[np.argmin(time_finish_app)] = True\n",
    "            # Add arrival time for the next patient\n",
    "            patients.append(round(poissonprocess()[0]))\n",
    "            time_with_doctor = randint.rvs(5, 20, size = 1)[0]\n",
    "            # Time at the end of the appoinment\n",
    "            time =  patient_entry_to_app + time_with_doctor\n",
    "            # which doctor is free\n",
    "            doctor = np.argwhere(doctors == True)[0][0] \n",
    "            \n",
    "            next_patient += 1\n",
    "            next_patient_arrival =  patient_arrival_time + patients[next_patient]\n",
    "        \n",
    "            if next_patient_arrival < time:\n",
    "                doctors[doctor] = False\n",
    "                time_finish_app[doctor] = time\n",
    "            else:\n",
    "                doctors[doctor] = True\n",
    "                time_finish_app[doctor] = 0\n",
    "                \n",
    "            # If doctors finish appoinments before the arrival of the next patient they become free again   \n",
    "            time_finish_app = np.where(time_finish_app < next_patient_arrival, 0, time_finish_app)\n",
    "            doctors = np.where(time_finish_app == 0, True, False)\n",
    "\n",
    "        else:\n",
    "            patients.append(round(poissonprocess()[0]))\n",
    "            time_with_doctor = randint.rvs(5, 20, size = 1)[0]\n",
    "            patient_arrival_time += patients[next_patient]\n",
    "            time =  patient_arrival_time + time_with_doctor\n",
    "            doctor = np.argwhere(doctors == True)[0][0] \n",
    "        \n",
    "            next_patient += 1\n",
    "            next_patient_arrival =  patient_arrival_time + patients[next_patient]\n",
    "        \n",
    "            if next_patient_arrival <= time:\n",
    "                doctors[doctor] = False\n",
    "                time_finish_app[doctor] = time\n",
    "            else:\n",
    "                doctors[doctor] = True\n",
    "                time_finish_app[doctor] = 0\n",
    "            \n",
    "            time_finish_app = np.where(time_finish_app < next_patient_arrival, 0, time_finish_app)\n",
    "            doctors = np.where(time_finish_app == 0, True, False)\n",
    "            #print('Time:', time, (patient_arrival_time, time_with_doctor),'Next patient:', next_patient_arrival, 'Free doctors:', time_finish_app)\n",
    "  \n",
    "    if len(waiting_time) > 0: \n",
    "        Average_waiting_time = sum(waiting_time) / len(waiting_time)\n",
    "    else:\n",
    "        Average_waiting_time = 0\n",
    "        \n",
    "    return next_patient + 1, patients_waiting, Average_waiting_time, max(420, time)\n"
   ]
  },
  {
   "cell_type": "code",
   "execution_count": 27,
   "metadata": {},
   "outputs": [
    {
     "name": "stdout",
     "output_type": "stream",
     "text": [
      "21 1 1.0 420\n"
     ]
    }
   ],
   "source": [
    "for i in range(1):\n",
    "    tot_patients, patients_waiting, waiting_time_avg, closing_time = queuing()\n",
    "    print(tot_patients, patients_waiting, waiting_time_avg, closing_time)"
   ]
  },
  {
   "cell_type": "code",
   "execution_count": 18,
   "metadata": {},
   "outputs": [],
   "source": [
    "patients, pat_waiting, avg_waiting, finish_time = [], [], [], []\n",
    "results = {'patients': [], 'pat_waiting': [], 'avg_waiting': [], 'finish_time': []}\n",
    "for i in range(100):\n",
    "    tot_patients, patients_waiting, waiting_time_avg, closing_time = queuing()\n",
    "    results['patients'].append(tot_patients)\n",
    "    results['pat_waiting'].append(patients_waiting)\n",
    "    results['avg_waiting'].append(waiting_time_avg)\n",
    "    results['finish_time'].append(closing_time)"
   ]
  },
  {
   "cell_type": "code",
   "execution_count": 21,
   "metadata": {},
   "outputs": [
    {
     "name": "stdout",
     "output_type": "stream",
     "text": [
      "patients mean:  42.47\n",
      "patients median:  42.0\n",
      "patients 50 interval:  (42.05020044805901, 42.88979955194099)\n",
      "\n",
      "pat_waiting mean:  5.51\n",
      "pat_waiting median:  5.0\n",
      "pat_waiting 50 interval:  (5.22302608715804, 5.79697391284196)\n",
      "\n",
      "avg_waiting mean:  4.3414315545565545\n",
      "avg_waiting median:  4.180555555555555\n",
      "avg_waiting 50 interval:  (4.190777256577915, 4.492085852535194)\n",
      "\n",
      "finish_time mean:  426.64\n",
      "finish_time median:  425.0\n",
      "finish_time 50 interval:  (426.22185061925524, 427.05814938074474)\n",
      "\n"
     ]
    }
   ],
   "source": [
    "for i in ['patients', 'pat_waiting', 'avg_waiting', 'finish_time']:\n",
    "    print(i, 'mean: ', np.mean(np.array(results[i])))\n",
    "    print(i, 'median: ', np.median(np.array(results[i])))\n",
    "    print(i, '50 interval: ', t.interval(0.5, len(results[i])-1, loc=np.mean(np.array(results[i])), scale= sem(np.array(results[i]))))\n",
    "    print('')"
   ]
  },
  {
   "cell_type": "code",
   "execution_count": 17,
   "metadata": {},
   "outputs": [
    {
     "name": "stdout",
     "output_type": "stream",
     "text": [
      "Last updated: Wed Aug 10 2022\n",
      "\n",
      "Python implementation: CPython\n",
      "Python version       : 3.9.1\n",
      "IPython version      : 7.26.0\n",
      "\n",
      "matplotlib: 3.4.2\n",
      "numpy     : 1.20.2\n",
      "scipy     : 1.6.2\n",
      "\n",
      "Watermark: 2.2.0\n",
      "\n"
     ]
    }
   ],
   "source": [
    "%load_ext watermark\n",
    "%watermark -n -u -v -iv -w"
   ]
  },
  {
   "cell_type": "code",
   "execution_count": null,
   "metadata": {},
   "outputs": [],
   "source": []
  }
 ],
 "metadata": {
  "kernelspec": {
   "display_name": "Python 3 (ipykernel)",
   "language": "python",
   "name": "python3"
  },
  "language_info": {
   "codemirror_mode": {
    "name": "ipython",
    "version": 3
   },
   "file_extension": ".py",
   "mimetype": "text/x-python",
   "name": "python",
   "nbconvert_exporter": "python",
   "pygments_lexer": "ipython3",
   "version": "3.9.1"
  }
 },
 "nbformat": 4,
 "nbformat_minor": 4
}

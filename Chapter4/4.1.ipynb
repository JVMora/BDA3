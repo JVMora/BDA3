{
 "cells": [
  {
   "cell_type": "markdown",
   "id": "146a6e08-af8e-4da1-be3a-3d01a11c8245",
   "metadata": {},
   "source": [
    "**1.** Normal approximation: suppose that $y_1, . . . , y_5$ are independent samples from a Cauchy\n",
    "distribution with unknown center $θ$ and known scale $1$: $p\\left ( y_i\\mid \\theta  \\right )\\propto 1/\\left (1 + \\left ( y_i - \\theta \\right )^2 \\right )$.\n",
    "Assume that the prior distribution for $θ$ is uniform on $[0, 1]$. Given the observations\n",
    "$(y_1, . . . , y_5) = (−2,−1, 0, 1.5, 2.5)$:\n",
    "\n",
    "**(a)** Determine the derivative and the second derivative of the log posterior density."
   ]
  },
  {
   "cell_type": "code",
   "execution_count": 1,
   "id": "b9322df6-26a0-41c6-a729-d71690a0efbb",
   "metadata": {},
   "outputs": [],
   "source": [
    "from sympy.stats import density, Cauchy\n",
    "from sympy import Symbol, log, diff, simplify\n",
    "import math\n",
    "import numpy as np\n",
    "import matplotlib.pyplot as plt\n",
    "import scipy.optimize\n",
    "import scipy.stats as st"
   ]
  },
  {
   "cell_type": "code",
   "execution_count": 2,
   "id": "47134f6e-d732-4b1d-bfef-efb20487c1c3",
   "metadata": {},
   "outputs": [],
   "source": [
    "y = Symbol('y')\n",
    "θ = Symbol('θ')\n",
    "n = Symbol('n')"
   ]
  },
  {
   "cell_type": "code",
   "execution_count": 3,
   "id": "b8f29cc1-3fa4-4ab0-b65b-ea382a6c97bf",
   "metadata": {},
   "outputs": [
    {
     "data": {
      "text/latex": [
       "$\\displaystyle \\log{\\left(\\frac{1}{\\pi \\left(\\left(- y + θ\\right)^{2} + 1\\right)} \\right)}$"
      ],
      "text/plain": [
       "log(1/(pi*((-y + θ)**2 + 1)))"
      ]
     },
     "execution_count": 3,
     "metadata": {},
     "output_type": "execute_result"
    }
   ],
   "source": [
    "Y = Cauchy('Y', y, 1)\n",
    "pdf = density(Y)(θ)\n",
    "\n",
    "# Log posterior density\n",
    "logpdf = log(pdf)\n",
    "logpdf.simplify()"
   ]
  },
  {
   "cell_type": "code",
   "execution_count": 4,
   "id": "0c0b5830-b1b3-461f-b661-53ed8982759b",
   "metadata": {},
   "outputs": [
    {
     "data": {
      "text/latex": [
       "$\\displaystyle \\frac{2 \\left(y - θ\\right)}{\\left(y - θ\\right)^{2} + 1}$"
      ],
      "text/plain": [
       "2*(y - θ)/((y - θ)**2 + 1)"
      ]
     },
     "execution_count": 4,
     "metadata": {},
     "output_type": "execute_result"
    }
   ],
   "source": [
    "# First derivative\n",
    "diff(logpdf, θ).simplify()"
   ]
  },
  {
   "cell_type": "code",
   "execution_count": 5,
   "id": "fc625362-2feb-4807-891a-f15e52487f68",
   "metadata": {},
   "outputs": [
    {
     "data": {
      "text/latex": [
       "$\\displaystyle \\frac{2 \\left(\\left(y - θ\\right)^{2} - 1\\right)}{\\left(\\left(y - θ\\right)^{2} + 1\\right)^{2}}$"
      ],
      "text/plain": [
       "2*((y - θ)**2 - 1)/((y - θ)**2 + 1)**2"
      ]
     },
     "execution_count": 5,
     "metadata": {},
     "output_type": "execute_result"
    }
   ],
   "source": [
    "# Second derivative\n",
    "diff(logpdf, θ, 2).simplify()"
   ]
  },
  {
   "cell_type": "code",
   "execution_count": 6,
   "id": "61953d11-e97e-4dc0-993c-6149b9fb0a41",
   "metadata": {},
   "outputs": [],
   "source": [
    "def logCauchy(x, theta):\n",
    "    return np.sum(np.log(1 / (np.pi * (((-x + theta)**2) + 1))))\n",
    "def minuslogCauchy(x, theta):\n",
    "    return -np.sum(np.log(1 / (np.pi * (((-x + theta)**2) + 1))))\n",
    "def dlogCauchy(x, theta):\n",
    "    return np.sum((2 * (x - theta)) / (((x - theta)**2) + 1)**2)\n",
    "def d2logCauchy(x, theta):\n",
    "    return np.sum((2 * (1 - (x - theta)**2)) / (((x - theta)**2) + 1)**2)"
   ]
  },
  {
   "cell_type": "code",
   "execution_count": 7,
   "id": "c66fbb4f-b2d2-4351-8c17-8ce79e3b4cf6",
   "metadata": {},
   "outputs": [],
   "source": [
    "x = np.array([-2,-1,0,1.5,2.5])\n",
    "thetas = np.linspace(-4, 4, 100)\n",
    "d = [logCauchy(x, theta) for theta in thetas]"
   ]
  },
  {
   "cell_type": "code",
   "execution_count": 8,
   "id": "2a9658e8-c06f-4549-820b-0e2a71637fd2",
   "metadata": {},
   "outputs": [
    {
     "data": {
      "image/png": "[encoded data removed]",
      "text/plain": [
       "<Figure size 576x432 with 1 Axes>"
      ]
     },
     "metadata": {
      "needs_background": "light"
     },
     "output_type": "display_data"
    }
   ],
   "source": [
    "plt.figure(figsize = (8,6))\n",
    "plt.plot(thetas, d);"
   ]
  },
  {
   "cell_type": "markdown",
   "id": "1b0ef946-39a2-4998-aa70-1bf422410ea8",
   "metadata": {},
   "source": [
    "**(b)** Find the posterior mode of $θ$ by iteratively solving the equation determined by setting\n",
    "the derivative of the log-likelihood to zero."
   ]
  },
  {
   "cell_type": "code",
   "execution_count": 9,
   "id": "c5c9ab01-84e8-4385-9d7a-b3646fe611e7",
   "metadata": {},
   "outputs": [
    {
     "data": {
      "text/plain": [
       "      fun: 11.172922656283603\n",
       " hess_inv: array([[0.72721827]])\n",
       "      jac: array([1.1920929e-07])\n",
       "  message: 'Optimization terminated successfully.'\n",
       "     nfev: 10\n",
       "      nit: 4\n",
       "     njev: 5\n",
       "   status: 0\n",
       "  success: True\n",
       "        x: array([-0.13764923])"
      ]
     },
     "execution_count": 9,
     "metadata": {},
     "output_type": "execute_result"
    }
   ],
   "source": [
    "theta_start = np.mean(x)\n",
    "mle = scipy.optimize.minimize(minuslogCauchy, theta_start, args=(x))\n",
    "mle"
   ]
  },
  {
   "cell_type": "markdown",
   "id": "47fea9a6-ab34-4c9e-a97a-d3ca5212f3f1",
   "metadata": {},
   "source": [
    "**(c)** Construct the normal approximation based on the second derivative of the log posterior\n",
    "density at the mode. Plot the approximate normal density and compare to the exact\n",
    "density computed in Exercise 2.11."
   ]
  },
  {
   "cell_type": "code",
   "execution_count": 10,
   "id": "f289a5e4-e811-4d05-9d22-0e69b10a385b",
   "metadata": {},
   "outputs": [
    {
     "data": {
      "text/plain": [
       "1.3748900049546402"
      ]
     },
     "execution_count": 10,
     "metadata": {},
     "output_type": "execute_result"
    }
   ],
   "source": [
    "# S = 1 / mle.hess_inv\n",
    "S = d2logCauchy(x, mle.x)\n",
    "S"
   ]
  },
  {
   "cell_type": "code",
   "execution_count": 12,
   "id": "753a536e-da14-4709-ad3e-021b52ae2076",
   "metadata": {},
   "outputs": [],
   "source": [
    "D = np.exp(d)\n",
    "D = D / np.diff(thetas[:2] * np.sum(D))\n",
    "D;"
   ]
  },
  {
   "cell_type": "code",
   "execution_count": 13,
   "id": "358849cd-377d-4e19-a5f1-bb77837fdbc8",
   "metadata": {},
   "outputs": [
    {
     "data": {
      "image/png": "[encoded data removed]",
      "text/plain": [
       "<Figure size 576x432 with 1 Axes>"
      ]
     },
     "metadata": {
      "needs_background": "light"
     },
     "output_type": "display_data"
    }
   ],
   "source": [
    "plt.figure(figsize = (8,6))\n",
    "plt.plot(thetas, st.norm.pdf(thetas, mle.x, np.sqrt(S)), label = 'Approx.')\n",
    "plt.plot(thetas, D, label = 'True')\n",
    "plt.legend();"
   ]
  },
  {
   "cell_type": "code",
   "execution_count": null,
   "id": "29a98efe-0703-47eb-bffd-70dce888b2b3",
   "metadata": {},
   "outputs": [],
   "source": []
  }
 ],
 "metadata": {
  "kernelspec": {
   "display_name": "Python 3 (ipykernel)",
   "language": "python",
   "name": "python3"
  },
  "language_info": {
   "codemirror_mode": {
    "name": "ipython",
    "version": 3
   },
   "file_extension": ".py",
   "mimetype": "text/x-python",
   "name": "python",
   "nbconvert_exporter": "python",
   "pygments_lexer": "ipython3",
   "version": "3.9.1"
  }
 },
 "nbformat": 4,
 "nbformat_minor": 5
}

{
 "cells": [
  {
   "cell_type": "markdown",
   "metadata": {},
   "source": [
    "**9.** Simulation of a queuing problem: a clinic has three doctors. Patients come into the\n",
    "clinic at random, starting at 9 a.m., according to a Poisson process with time parameter\n",
    "10 minutes: that is, the time after opening at which the first patient appears follows an\n",
    "exponential distribution with expectation 10 minutes and then, after each patient arrives,\n",
    "the waiting time until the next patient is independently exponentially distributed, also\n",
    "with expectation 10 minutes. When a patient arrives, he or she waits until a doctor\n",
    "is available. The amount of time spent by each doctor with each patient is a random\n",
    "variable, uniformly distributed between 5 and 20 minutes. The office stops admitting\n",
    "new patients at 4 p.m. and closes when the last patient is through with the doctor.\n",
    "\n",
    "**(a)** Simulate this process once. How many patients came to the office? How many had to\n",
    "wait for a doctor? What was their average wait? When did the office close?\n"
   ]
  },
  {
   "cell_type": "code",
   "execution_count": 1,
   "metadata": {},
   "outputs": [],
   "source": [
    "import numpy as np\n",
    "import matplotlib.pyplot as plt\n",
    "import scipy.stats as st\n",
    "import random"
   ]
  },
  {
   "cell_type": "code",
   "execution_count": 2,
   "metadata": {},
   "outputs": [],
   "source": [
    "def poissonprocess(size = 1):\n",
    "    n = np.random.uniform(0, 1, size = size)\n",
    "    return  -np.log(1.0 - n) / (1/10)"
   ]
  },
  {
   "cell_type": "code",
   "execution_count": 3,
   "metadata": {},
   "outputs": [],
   "source": [
    "def queuing(ndoctors = 3, λ = 10, a = 5, b = 20):\n",
    "    \n",
    "    # ndoctors: number of doctors\n",
    "    # λ: rate of patients appearance\n",
    "    # a, b: minimun and maximun time the doctors spend with each patient\n",
    "    \n",
    "    next_patient = 0\n",
    "    open_time = 0\n",
    "    time = 0\n",
    "    patient_arrival_time = 0\n",
    "    patients = [round(st.expon.rvs(0, λ))]\n",
    "    doctors = np.repeat([True], ndoctors)\n",
    "    time_finish_app = np.zeros(ndoctors)\n",
    "    next_patient_arrival = 0\n",
    "    patients_waiting = 0\n",
    "    waiting_time = []\n",
    "    while next_patient_arrival <= 420:\n",
    "    \n",
    "        if np.any(doctors) == False: \n",
    "            \n",
    "            # If doctors are busy, patient_arrival_time is equal to the time the first appoinment finished\n",
    "            patients_waiting += 1\n",
    "            patient_arrival_time += patients[next_patient]\n",
    "            patient_entry_to_app = np.min(time_finish_app) + 1\n",
    "            waiting_time.append(patient_entry_to_app - patient_arrival_time)\n",
    "            # The doctor who finishes first his appoinment gets unoccupied\n",
    "            doctors[np.argmin(time_finish_app)] = True\n",
    "            # Add arrival time for the next patient\n",
    "            patients.append(round(st.expon.rvs(0, λ)))\n",
    "            time_with_doctor = st.randint.rvs(a, b)\n",
    "            # Time at the end of the appoinment\n",
    "            time =  patient_entry_to_app + time_with_doctor\n",
    "            # which doctor is free\n",
    "            doctor = np.argwhere(doctors == True)[0][0] \n",
    "            \n",
    "            next_patient += 1\n",
    "            next_patient_arrival =  patient_arrival_time + patients[next_patient]\n",
    "        \n",
    "            if next_patient_arrival < time:\n",
    "                doctors[doctor] = False\n",
    "                time_finish_app[doctor] = time\n",
    "            else:\n",
    "                doctors[doctor] = True\n",
    "                time_finish_app[doctor] = 0\n",
    "                \n",
    "            # If doctors finish appoinments before the arrival of the next patient they become free again   \n",
    "            time_finish_app = np.where(time_finish_app < next_patient_arrival, 0, time_finish_app)\n",
    "            doctors = np.where(time_finish_app == 0, True, False)\n",
    "\n",
    "        else:\n",
    "            patients.append(round(st.expon.rvs(0, λ)))\n",
    "            time_with_doctor = st.randint.rvs(a, b)\n",
    "            patient_arrival_time += patients[next_patient]\n",
    "            time =  patient_arrival_time + time_with_doctor\n",
    "            doctor = np.argwhere(doctors == True)[0][0] \n",
    "        \n",
    "            next_patient += 1\n",
    "            next_patient_arrival =  patient_arrival_time + patients[next_patient]\n",
    "        \n",
    "            if next_patient_arrival <= time:\n",
    "                doctors[doctor] = False\n",
    "                time_finish_app[doctor] = time\n",
    "            else:\n",
    "                doctors[doctor] = True\n",
    "                time_finish_app[doctor] = 0\n",
    "            \n",
    "            time_finish_app = np.where(time_finish_app < next_patient_arrival, 0, time_finish_app)\n",
    "            doctors = np.where(time_finish_app == 0, True, False)\n",
    "            \n",
    "    if len(waiting_time) > 0: \n",
    "        Average_waiting_time = sum(waiting_time) / len(waiting_time)\n",
    "    else:\n",
    "        Average_waiting_time = 0\n",
    "        \n",
    "    return next_patient + 1, patients_waiting, Average_waiting_time, max(420, time)\n"
   ]
  },
  {
   "cell_type": "code",
   "execution_count": 4,
   "metadata": {},
   "outputs": [
    {
     "name": "stdout",
     "output_type": "stream",
     "text": [
      "35 patients came to the office\n",
      "5 patients had to wait for a doctor\n",
      "Their average wait was 3 minutes\n",
      "The office closed after 420 minutes of being opened\n"
     ]
    }
   ],
   "source": [
    "tot_patients, patients_waiting, waiting_time_avg, closing_time = queuing()\n",
    "print(tot_patients, 'patients came to the office')\n",
    "print(patients_waiting, 'patients had to wait for a doctor')\n",
    "print(f'Their average wait was {round(waiting_time_avg)} minutes')\n",
    "print(f'The office closed after {closing_time} minutes of being opened')"
   ]
  },
  {
   "cell_type": "markdown",
   "metadata": {},
   "source": [
    "**(b)** Simulate the process 100 times and estimate the median and 50% interval for each of\n",
    "the summaries in (a)."
   ]
  },
  {
   "cell_type": "code",
   "execution_count": 5,
   "metadata": {},
   "outputs": [],
   "source": [
    "res = {'patients': [], 'pat_waiting': [], 'avg_waiting': [], 'finish_time': []}\n",
    "for i in range(100):\n",
    "    tot_patients, patients_waiting, waiting_time_avg, closing_time = queuing()\n",
    "    res['patients'].append(tot_patients)\n",
    "    res['pat_waiting'].append(patients_waiting)\n",
    "    res['avg_waiting'].append(waiting_time_avg)\n",
    "    res['finish_time'].append(closing_time)"
   ]
  },
  {
   "cell_type": "code",
   "execution_count": 6,
   "metadata": {
    "tags": []
   },
   "outputs": [
    {
     "name": "stdout",
     "output_type": "stream",
     "text": [
      "\n",
      "                     |   Median   |    Mean    |   50% interval  \n",
      "**********************************************************************\n",
      "Number of patients   |    42.0    |   42.68    | [42.174 43.186] \n",
      "# patients waiting   |    5.0     |    6.47    |  [6.127 6.813]  \n",
      "Average waiting time |    4.6     |    4.67    |  [4.523 4.823]  \n",
      "Time opened          |   424.5    |   426.4    | [425.937 426.863]\n"
     ]
    }
   ],
   "source": [
    "labels = ['Number of patients', '# patients waiting', 'Average waiting time', 'Time opened']\n",
    "variables = ['patients', 'pat_waiting', 'avg_waiting', 'finish_time']\n",
    "\n",
    "print(\"\\n{:^20} | {:^10} | {:^10} | {:^16}\".format(\"\", \"Median\", \"Mean\", \"50% interval\"))\n",
    "print(\"*\"*70)\n",
    "for var, label in zip(variables, labels):\n",
    "    print(\"{:<20} | {:^10} | {:^10} | {:^16}\".format(label,\n",
    "                                            np.round(np.median(res[var]), 1), \n",
    "                                            np.round(np.mean(res[var]), 2),\n",
    "                                            str(np.round(st.t.interval(0.5, len(res[var])-1,\n",
    "                                                                       loc=np.mean(res[var]),\n",
    "                                                                       scale= st.sem(res[var])), 3))))\n",
    "    "
   ]
  },
  {
   "cell_type": "code",
   "execution_count": null,
   "metadata": {},
   "outputs": [],
   "source": []
  }
 ],
 "metadata": {
  "kernelspec": {
   "display_name": "Python 3 (ipykernel)",
   "language": "python",
   "name": "python3"
  },
  "language_info": {
   "codemirror_mode": {
    "name": "ipython",
    "version": 3
   },
   "file_extension": ".py",
   "mimetype": "text/x-python",
   "name": "python",
   "nbconvert_exporter": "python",
   "pygments_lexer": "ipython3",
   "version": "3.9.1"
  }
 },
 "nbformat": 4,
 "nbformat_minor": 4
}
